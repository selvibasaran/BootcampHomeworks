{
 "cells": [
  {
   "cell_type": "code",
   "execution_count": 967,
   "metadata": {},
   "outputs": [
    {
     "data": {
      "text/plain": [
       "[['Name;Department;BornIn;BirthDate']]"
      ]
     },
     "execution_count": 967,
     "metadata": {},
     "output_type": "execute_result"
    }
   ],
   "source": [
    "\n",
    "def csvreader():\n",
    "    list=[]\n",
    "    \n",
    "    with open(\"employee.csv\", \"r\") as file:\n",
    "        employees=csv.reader(file,delimiter=',')\n",
    "        for row in employees:\n",
    "            list.append(row)\n",
    "            return(list)\n",
    "csvreader()"
   ]
  },
  {
   "cell_type": "code",
   "execution_count": 993,
   "metadata": {},
   "outputs": [],
   "source": [
    "import numpy as np\n",
    "class myexcel:\n",
    "\n",
    "    def __init__(self,name,uzanti=\".csv\"):\n",
    "        self.name=name\n",
    "        self.uzanti=uzanti\n",
    "       \n",
    "    def sutunadlari(self):\n",
    "        list=[]\n",
    "        name2=self.name+self.uzanti\n",
    "        with open(name2, \"r\") as file:\n",
    "            employees=csv.reader(file,delimiter=';')\n",
    "           \n",
    "            for row in employees:\n",
    "                list.append(row)\n",
    "            x=list[0]\n",
    "            #return(list[0])\n",
    "            for sutunadlari in x:\n",
    "                y=(len(x))\n",
    "                \n",
    "                print(sutunadlari)\n",
    "                #print(type(sutunadlari))\n",
    "        #print(y)\n",
    "    def boyut(self):\n",
    "        list=[]\n",
    "        name2=self.name+self.uzanti\n",
    "        with open(name2, \"r\") as file:\n",
    "            employees=csv.reader(file,delimiter=';')\n",
    "           \n",
    "            for row in employees:\n",
    "                list.append(row)\n",
    "            x=list[0]\n",
    "            #return(list[0])\n",
    "            for sutunadlari in x:\n",
    "                y=(len(x))\n",
    "                \n",
    "                \n",
    "        print(\"(\"+str(y)+\",\"+str(len(list))+\")\")\n",
    "    def sutunyazdir(self,sutunadi):\n",
    "        stnadi=sutunadi\n",
    "        list=[]\n",
    "        listesutunyaz=[]\n",
    "        name2=self.name+self.uzanti\n",
    "        with open(name2, \"r\") as file:\n",
    "            employees=csv.reader(file,delimiter=';')\n",
    "            \n",
    "            for row in employees:\n",
    "                list.append(row)\n",
    "            z=list[0].index(stnadi)\n",
    "            for c in range(len(list)-1):\n",
    "                listesutunyaz.append(list[c+1][z])\n",
    "            print(listesutunyaz)\n",
    "            print(np.unique(listesutunyaz))\n",
    "            print(len(np.unique(listesutunyaz)))\n",
    "           # print(z)\n",
    "          #  print(len(list))\n",
    "        \n",
    "    def sutuntipleri(self):\n",
    "        listsutuntipleri=[]\n",
    "        name2=self.name+self.uzanti\n",
    "        with open(name2, \"r\") as file:\n",
    "            employees=csv.reader(file,delimiter=';')\n",
    "           \n",
    "            for row in employees:\n",
    "                listsutuntipleri.append(row)\n",
    "            x=listsutuntipleri[0]\n",
    "    \n",
    "            #return(list[0])\n",
    "            for sutunadlari in x:\n",
    "                \n",
    "                    y=(len(x))\n",
    "                \n",
    "                    o=type(sutunadlari)\n",
    "                    print(sutunadlari+\":\"+str(o)[-5:-2])\n",
    "                    \n",
    "    def ortalamaBornin(self):\n",
    "        list=[]\n",
    "        listedegeryaz=[]\n",
    "        name2=self.name+self.uzanti\n",
    "        with open(name2, \"r\") as file:\n",
    "            employees=csv.reader(file,delimiter=';')\n",
    "            top=0\n",
    "            for row in employees:\n",
    "                list.append(row)\n",
    "            gt=list[0].index(\"BornIn\")\n",
    "            for c in range(len(list)-1):\n",
    "                top=top+int(list[c+1][gt])\n",
    "                avg=top/(len(list)-1)\n",
    "                listedegeryaz.append(list[c+1][gt])\n",
    "            print(\"Maksimum:\"+max(listedegeryaz))\n",
    "            print(\"Minumum:\"+min(listedegeryaz))\n",
    "            print(\"Toplam:\"+str(top))\n",
    "            print(\"Average:\"+str(avg))\n",
    "     "
   ]
  },
  {
   "cell_type": "code",
   "execution_count": 994,
   "metadata": {},
   "outputs": [
    {
     "name": "stdout",
     "output_type": "stream",
     "text": [
      "Name\n",
      "Department\n",
      "BornIn\n",
      "BirthDate\n",
      "(4,4)\n",
      "['IT', 'Sales', 'Sales']\n",
      "['IT' 'Sales']\n",
      "2\n",
      "Name:str\n",
      "Department:str\n",
      "BornIn:str\n",
      "BirthDate:str\n",
      "Maksimum:1992\n",
      "Minumum:1969\n",
      "Toplam:5946\n",
      "Average:1982.0\n"
     ]
    }
   ],
   "source": [
    "x=myexcel(\"employee\");\n",
    "x.sutunadlari()\n",
    "x.boyut()\n",
    "x.sutunyazdir(\"Department\")\n",
    "x.sutuntipleri()\n",
    "x.ortalamaBornin()"
   ]
  },
  {
   "cell_type": "code",
   "execution_count": null,
   "metadata": {},
   "outputs": [],
   "source": []
  },
  {
   "cell_type": "code",
   "execution_count": 687,
   "metadata": {},
   "outputs": [],
   "source": [
    " "
   ]
  },
  {
   "cell_type": "code",
   "execution_count": null,
   "metadata": {},
   "outputs": [],
   "source": []
  },
  {
   "cell_type": "code",
   "execution_count": null,
   "metadata": {},
   "outputs": [],
   "source": []
  }
 ],
 "metadata": {
  "kernelspec": {
   "display_name": "Python 3",
   "language": "python",
   "name": "python3"
  },
  "language_info": {
   "codemirror_mode": {
    "name": "ipython",
    "version": 3
   },
   "file_extension": ".py",
   "mimetype": "text/x-python",
   "name": "python",
   "nbconvert_exporter": "python",
   "pygments_lexer": "ipython3",
   "version": "3.7.0"
  }
 },
 "nbformat": 4,
 "nbformat_minor": 2
}
