{
 "cells": [
  {
   "cell_type": "code",
   "execution_count": 2,
   "metadata": {},
   "outputs": [],
   "source": [
    "#Python Basics Assignments"
   ]
  },
  {
   "cell_type": "code",
   "execution_count": 3,
   "metadata": {},
   "outputs": [
    {
     "data": {
      "text/plain": [
       "'Selvi Basaran'"
      ]
     },
     "execution_count": 3,
     "metadata": {},
     "output_type": "execute_result"
    }
   ],
   "source": [
    "\"Selvi Basaran\""
   ]
  },
  {
   "cell_type": "code",
   "execution_count": 6,
   "metadata": {},
   "outputs": [
    {
     "name": "stdout",
     "output_type": "stream",
     "text": [
      "Selvi \n",
      " Basaran\n"
     ]
    }
   ],
   "source": [
    "print ('Selvi \\n Basaran')"
   ]
  },
  {
   "cell_type": "code",
   "execution_count": 32,
   "metadata": {},
   "outputs": [
    {
     "name": "stdout",
     "output_type": "stream",
     "text": [
      " `I don't want to be an \"artist\". I want to be a \" Data Scientist.\"`  \n"
     ]
    }
   ],
   "source": [
    "print( \" `I don\\'t want to be an \\\"artist\\\". I want to be a \\\" Data ScientistBasic Data Types.\\\"`  \")"
   ]
  },
  {
   "cell_type": "code",
   "execution_count": 33,
   "metadata": {},
   "outputs": [],
   "source": [
    "#Basic Data Types"
   ]
  },
  {
   "cell_type": "code",
   "execution_count": 34,
   "metadata": {},
   "outputs": [],
   "source": [
    "capital=1000"
   ]
  },
  {
   "cell_type": "code",
   "execution_count": 35,
   "metadata": {},
   "outputs": [],
   "source": [
    "dailygrowth=12"
   ]
  },
  {
   "cell_type": "code",
   "execution_count": 36,
   "metadata": {},
   "outputs": [],
   "source": [
    "period=7"
   ]
  },
  {
   "cell_type": "code",
   "execution_count": 95,
   "metadata": {},
   "outputs": [],
   "source": [
    "growth=((capital*dailygrowth)/period)"
   ]
  },
  {
   "cell_type": "code",
   "execution_count": 96,
   "metadata": {},
   "outputs": [
    {
     "name": "stdout",
     "output_type": "stream",
     "text": [
      "growthrate: 0.41666666666666663\n"
     ]
    }
   ],
   "source": [
    "print(\"growthrate:\",(growth-capital)/growth)"
   ]
  },
  {
   "cell_type": "code",
   "execution_count": 56,
   "metadata": {},
   "outputs": [
    {
     "name": "stdout",
     "output_type": "stream",
     "text": [
      "  ` \" When we buy bitcoin with 1000 USD at the beginning of the week, \n",
      " we would earn 1210.68 USD at the end of the week, with an average gain of 12\\%. \" ` \n"
     ]
    }
   ],
   "source": [
    " print(\"  ` \\\" When we buy bitcoin with {0} USD at the beginning of the week, \\n we would earn {1} USD at the end of the week, with an average gain of {2}\\%. \\\" ` \".format(1000,1210.68,12))"
   ]
  },
  {
   "cell_type": "code",
   "execution_count": 57,
   "metadata": {},
   "outputs": [
    {
     "name": "stdout",
     "output_type": "stream",
     "text": [
      "Enter the temperature in Fahrenheit:26\n"
     ]
    }
   ],
   "source": [
    "temp=input(\"Enter the temperature in Fahrenheit:\")"
   ]
  },
  {
   "cell_type": "code",
   "execution_count": 83,
   "metadata": {},
   "outputs": [
    {
     "name": "stdout",
     "output_type": "stream",
     "text": [
      "Temperature (C) : -3.3333333333333335\n"
     ]
    }
   ],
   "source": [
    "print(\"Temperature (C) :\",(5/9) * (int(temp) - 32))"
   ]
  },
  {
   "cell_type": "code",
   "execution_count": 98,
   "metadata": {},
   "outputs": [
    {
     "name": "stdout",
     "output_type": "stream",
     "text": [
      "Bir Sayı Girin:365\n"
     ]
    }
   ],
   "source": [
    "a=input(\"Bir Sayı Girin:\")"
   ]
  },
  {
   "cell_type": "code",
   "execution_count": 108,
   "metadata": {},
   "outputs": [],
   "source": [
    "sum=int(a[0])+int(a[1])+int(a[2])"
   ]
  },
  {
   "cell_type": "code",
   "execution_count": 110,
   "metadata": {},
   "outputs": [
    {
     "name": "stdout",
     "output_type": "stream",
     "text": [
      "The sum of digits in the number is 14\n"
     ]
    }
   ],
   "source": [
    "print(\"The sum of digits in the number is\",sum)"
   ]
  },
  {
   "cell_type": "code",
   "execution_count": 111,
   "metadata": {},
   "outputs": [
    {
     "name": "stdout",
     "output_type": "stream",
     "text": [
      "first side lenth :6\n"
     ]
    }
   ],
   "source": [
    "firstlen=input(\"first side lenth :\")"
   ]
  },
  {
   "cell_type": "code",
   "execution_count": 112,
   "metadata": {},
   "outputs": [
    {
     "name": "stdout",
     "output_type": "stream",
     "text": [
      "second side lenth :8\n"
     ]
    }
   ],
   "source": [
    "secondlen=input(\"second side lenth :\")"
   ]
  },
  {
   "cell_type": "code",
   "execution_count": 124,
   "metadata": {},
   "outputs": [
    {
     "name": "stdout",
     "output_type": "stream",
     "text": [
      "The length of the hypotenuse is 10.0\n"
     ]
    }
   ],
   "source": [
    "from math import sqrt\n",
    "print(\"The length of the hypotenuse is\",sqrt(int(firstlen)**2+int(secondlen)**2))"
   ]
  },
  {
   "cell_type": "code",
   "execution_count": 125,
   "metadata": {},
   "outputs": [],
   "source": [
    "#What are Variables? "
   ]
  },
  {
   "cell_type": "code",
   "execution_count": 126,
   "metadata": {},
   "outputs": [],
   "source": [
    "x=1\n",
    "y=1"
   ]
  },
  {
   "cell_type": "code",
   "execution_count": 127,
   "metadata": {},
   "outputs": [
    {
     "data": {
      "text/plain": [
       "int"
      ]
     },
     "execution_count": 127,
     "metadata": {},
     "output_type": "execute_result"
    }
   ],
   "source": [
    "type(x)\n",
    "type(y)"
   ]
  },
  {
   "cell_type": "code",
   "execution_count": 128,
   "metadata": {},
   "outputs": [
    {
     "name": "stdout",
     "output_type": "stream",
     "text": [
      "1 1\n"
     ]
    }
   ],
   "source": [
    "print(x,y)"
   ]
  },
  {
   "cell_type": "code",
   "execution_count": 133,
   "metadata": {},
   "outputs": [],
   "source": [
    "y=str(y)"
   ]
  },
  {
   "cell_type": "code",
   "execution_count": 134,
   "metadata": {},
   "outputs": [],
   "source": [
    "x=str(y)"
   ]
  },
  {
   "cell_type": "code",
   "execution_count": 139,
   "metadata": {},
   "outputs": [
    {
     "data": {
      "text/plain": [
       "str"
      ]
     },
     "execution_count": 139,
     "metadata": {},
     "output_type": "execute_result"
    }
   ],
   "source": [
    "type(x)\n",
    "type(y)"
   ]
  },
  {
   "cell_type": "code",
   "execution_count": 140,
   "metadata": {},
   "outputs": [],
   "source": [
    "#LISTS"
   ]
  },
  {
   "cell_type": "code",
   "execution_count": 141,
   "metadata": {},
   "outputs": [],
   "source": [
    "my_list = [34, 56, 76, 45, 2, 12, 67, 98, 37, 54, 66]"
   ]
  },
  {
   "cell_type": "code",
   "execution_count": 167,
   "metadata": {},
   "outputs": [
    {
     "name": "stdout",
     "output_type": "stream",
     "text": [
      "10\n",
      "two lowest number: 2 , 12 , Two highest number:  98 , 76\n"
     ]
    }
   ],
   "source": [
    "my_list.sort()\n",
    "a=len(my_list)-1\n",
    "print(int(a))\n",
    "print(\"two lowest number:\",my_list[0],\",\",my_list[1],\", Two highest number: \",my_list[a],\",\",my_list[a-1])"
   ]
  },
  {
   "cell_type": "code",
   "execution_count": 2,
   "metadata": {},
   "outputs": [],
   "source": [
    "names = [\"David\", \"Michael\", \"John\", \"James\", \"Greg\", \"Mark\", \"William\", \"Richard\", \"Thomas\", \"Steven\",\"Mary\", \"Susan\", \"Maria\", \"Karen\", \"Lisa\", \"Linda\", \"Donna\", \"Patricia\", \"Debra\", \"Eric\"]\n",
    "\n",
    "scores = [99, 87, 78, 86, 68, 94, 76, 97, 56, 98, 76, 87, 79, 90, 73, 93, 82, 69, 97, 98]"
   ]
  },
  {
   "cell_type": "code",
   "execution_count": 14,
   "metadata": {},
   "outputs": [
    {
     "name": "stdout",
     "output_type": "stream",
     "text": [
      "Scorunu ogrenmek istediğiniz ogrenci adını girinMark\n",
      "94\n"
     ]
    }
   ],
   "source": [
    "a=input(\"Scorunu ogrenmek istediğiniz ogrenci adını girin\")\n",
    "print(scores[names.index(a)])"
   ]
  },
  {
   "cell_type": "code",
   "execution_count": 31,
   "metadata": {},
   "outputs": [
    {
     "data": {
      "text/plain": [
       "1"
      ]
     },
     "execution_count": 31,
     "metadata": {},
     "output_type": "execute_result"
    }
   ],
   "source": [
    "scores.sort(reverse=True)\n",
    "a=scores[0]\n",
    "scores.count(a)"
   ]
  },
  {
   "cell_type": "code",
   "execution_count": 37,
   "metadata": {},
   "outputs": [
    {
     "name": "stdout",
     "output_type": "stream",
     "text": [
      "[['January', 'February', 'March', 'April', 'May', 'June', 'July', 'August', 'September', 'October', 'November', 'December'], [31, 28, 31, 30, 31, 30, 31, 31, 30, 31, 30, 31]]\n"
     ]
    }
   ],
   "source": [
    "Months = ['January', 'February', 'March', \n",
    "          'April', 'May', 'June', \n",
    "          'July', 'August', 'September', \n",
    "          'October', 'November', 'December']\n",
    "days=[31,28,31,30,31,30,31,31,30,31,30,31]\n",
    "monthanddays= [Months,days]\n",
    "print(monthanddays)"
   ]
  },
  {
   "cell_type": "code",
   "execution_count": 52,
   "metadata": {},
   "outputs": [
    {
     "name": "stdout",
     "output_type": "stream",
     "text": [
      "['March', 31, 'April', 30, 'May', 31]\n",
      "['June', 30, 'July', 31, 'August', 31]\n",
      "['September', 30, 'October', 31, 'November', 30]\n",
      "['December', 31, 'January', 31, 'February', 28]\n"
     ]
    }
   ],
   "source": [
    "spring = [Months[2],days[2],Months[3],days[3],Months[4],days[4]] #'March', 'April', 'May'\n",
    "summer = [Months[5],days[5],Months[6],days[6],Months[7],days[7]]#'June', 'July', 'August'\n",
    "fall = [Months[8],days[8],Months[9],days[9],Months[10],days[10]] #'September', 'October', 'November'\n",
    "winter = [Months[11],days[11],Months[0],days[0],Months[1],days[1]]#'December', 'January', 'February'\n",
    "print(spring)\n",
    "print(summer)\n",
    "print(fall)\n",
    "print(winter)"
   ]
  },
  {
   "cell_type": "code",
   "execution_count": 56,
   "metadata": {},
   "outputs": [
    {
     "name": "stdout",
     "output_type": "stream",
     "text": [
      "Total days in summer: 92\n"
     ]
    }
   ],
   "source": [
    "print(\"Total days in summer:\",int(summer[1])+int(summer[3])+int(summer[5]))"
   ]
  },
  {
   "cell_type": "code",
   "execution_count": 57,
   "metadata": {},
   "outputs": [],
   "source": [
    "#Dictionaries"
   ]
  },
  {
   "cell_type": "code",
   "execution_count": 61,
   "metadata": {},
   "outputs": [],
   "source": [
    "days={\"Monday\":1,\n",
    "     \"Tuesday\":2,\n",
    "     \"Wendesday\":3,\n",
    "     \"Thursday\":4,\n",
    "     \"Friday\":5,\n",
    "     \"Saturday\":6,\n",
    "     \"Sunday\":7}"
   ]
  },
  {
   "cell_type": "code",
   "execution_count": 63,
   "metadata": {},
   "outputs": [
    {
     "name": "stdout",
     "output_type": "stream",
     "text": [
      "Bir gün seçMonday\n",
      "Bir tane daha seçTuesday\n"
     ]
    }
   ],
   "source": [
    "a=input(\"Bir gün seç\")\n",
    "b=input(\"Bir tane daha seç\")"
   ]
  },
  {
   "cell_type": "code",
   "execution_count": 69,
   "metadata": {},
   "outputs": [
    {
     "name": "stdout",
     "output_type": "stream",
     "text": [
      "{'Wendesday': 3, 'Thursday': 4, 'Friday': 5, 'Saturday': 6, 'Sunday': 7}\n"
     ]
    }
   ],
   "source": [
    "days.pop(a)\n",
    "days.pop(b)\n",
    "print(days)"
   ]
  },
  {
   "cell_type": "code",
   "execution_count": 147,
   "metadata": {},
   "outputs": [
    {
     "name": "stdout",
     "output_type": "stream",
     "text": [
      "{'John': {'age': 25, 'sex': 'male'}, 'Lisa': {'age': 28, 'sex': 'female'}, 'Linda': {'age': 32, 'sex': 'female', 'child': {'Susan': {'age': 6, 'sex': 'female'}}}, 'Michael': {'age': 41, 'sex': 'male', 'child': {'Karen': {'age': 12, 'sex': 'female'}, 'Greg': {'age': 7, 'sex': 'male'}}}}\n"
     ]
    }
   ],
   "source": [
    "personel={\"John\":{\"age\":25,\"sex\":\"male\"} \n",
    "         ,\"Lisa\":{\"age\":28,\"sex\":\"female\"}\n",
    "           ,\"Linda\":{\"age\":32,\"sex\":\"female\",\"child\":{\"Susan\":{\"age\":6,\"sex\":\"female\"}}}\n",
    "                  ,\"Michael\":{\"age\":41,\"sex\":\"male\",\"child\":{\"Karen\":{\"age\":12,\"sex\":\"female\"},\"Greg\":{\"age\":7,\"sex\":\"male\"}}}\n",
    "         }\n",
    "print(personel)\n",
    "#\"Name\":\"John\",\"Age\":25,\"Sex\":\"Male\"\n",
    "  #  ,\"Name\":\"Lisa\",\"Age\":28,\"Sex\":\"Female\"\n",
    "   # ,\"Name\":\"Linda\",\"Age\":32,\"Sex\":\"Female\"\n",
    "    #,\"Name\":\"Michael\",\"Age\":41,\"Sex\":\"Male\""
   ]
  },
  {
   "cell_type": "code",
   "execution_count": 148,
   "metadata": {},
   "outputs": [
    {
     "data": {
      "text/plain": [
       "dict_keys(['John', 'Lisa', 'Linda', 'Michael'])"
      ]
     },
     "execution_count": 148,
     "metadata": {},
     "output_type": "execute_result"
    }
   ],
   "source": [
    "personel.keys()"
   ]
  },
  {
   "cell_type": "code",
   "execution_count": 149,
   "metadata": {},
   "outputs": [
    {
     "data": {
      "text/plain": [
       "{'Karen': {'age': 12, 'sex': 'female'}, 'Greg': {'age': 7, 'sex': 'male'}}"
      ]
     },
     "execution_count": 149,
     "metadata": {},
     "output_type": "execute_result"
    }
   ],
   "source": [
    "personel[\"Michael\"][\"child\"]"
   ]
  },
  {
   "cell_type": "code",
   "execution_count": 150,
   "metadata": {},
   "outputs": [],
   "source": [
    " #Tuples and Sets "
   ]
  },
  {
   "cell_type": "code",
   "execution_count": 155,
   "metadata": {},
   "outputs": [
    {
     "name": "stdout",
     "output_type": "stream",
     "text": [
      "('Monday', 'Tuesday', 'Wendesday', 'Thursday', 'Friday', 'Saturday', 'Sunday')\n",
      "<class 'tuple'> \n",
      "\n"
     ]
    }
   ],
   "source": [
    "weekdays = [\"Monday\",\n",
    "     \"Tuesday\",\n",
    "     \"Wendesday\",\n",
    "     \"Thursday\",\n",
    "     \"Friday\",\n",
    "     \"Saturday\",\n",
    "     \"Sunday\"]\n",
    "\n",
    "my_tuple = tuple(weekdays)\n",
    "print(my_tuple)\n",
    "print(type(my_tuple), '\\n')"
   ]
  },
  {
   "cell_type": "code",
   "execution_count": 156,
   "metadata": {},
   "outputs": [
    {
     "name": "stdout",
     "output_type": "stream",
     "text": [
      "{'orange', 'mango', 'apple'}\n",
      "<class 'set'> \n",
      "\n"
     ]
    }
   ],
   "source": [
    "fruits = set(['apple', 'mango', 'orange' ])\n",
    "print(fruits)"
   ]
  },
  {
   "cell_type": "code",
   "execution_count": 159,
   "metadata": {},
   "outputs": [
    {
     "name": "stdout",
     "output_type": "stream",
     "text": [
      "{'mango', 'cherry', 'peach', 'apple'}\n"
     ]
    }
   ],
   "source": [
    "new_fruits=set(['cherry', 'peach', 'apple', 'mango']\n",
    "print(new_fruits)"
   ]
  },
  {
   "cell_type": "code",
   "execution_count": 160,
   "metadata": {},
   "outputs": [
    {
     "name": "stdout",
     "output_type": "stream",
     "text": [
      "{'orange'}\n"
     ]
    }
   ],
   "source": [
    "print(fruits.difference(new_fruits))"
   ]
  },
  {
   "cell_type": "code",
   "execution_count": 161,
   "metadata": {},
   "outputs": [
    {
     "name": "stdout",
     "output_type": "stream",
     "text": [
      "{'mango', 'apple'}\n"
     ]
    }
   ],
   "source": [
    "print(fruits.intersection(new_fruits))"
   ]
  },
  {
   "cell_type": "code",
   "execution_count": null,
   "metadata": {},
   "outputs": [],
   "source": []
  }
 ],
 "metadata": {
  "kernelspec": {
   "display_name": "Python 3",
   "language": "python",
   "name": "python3"
  },
  "language_info": {
   "codemirror_mode": {
    "name": "ipython",
    "version": 3
   },
   "file_extension": ".py",
   "mimetype": "text/x-python",
   "name": "python",
   "nbconvert_exporter": "python",
   "pygments_lexer": "ipython3",
   "version": "3.7.0"
  }
 },
 "nbformat": 4,
 "nbformat_minor": 2
}
